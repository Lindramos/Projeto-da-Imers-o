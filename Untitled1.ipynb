{
  "nbformat": 4,
  "nbformat_minor": 0,
  "metadata": {
    "colab": {
      "provenance": [],
      "authorship_tag": "ABX9TyO4SOOcAxFv53vYPP+GU68k",
      "include_colab_link": true
    },
    "kernelspec": {
      "name": "python3",
      "display_name": "Python 3"
    },
    "language_info": {
      "name": "python"
    }
  },
  "cells": [
    {
      "cell_type": "markdown",
      "metadata": {
        "id": "view-in-github",
        "colab_type": "text"
      },
      "source": [
        "<a href=\"https://colab.research.google.com/github/Lindramos/Projeto-da-Imers-o/blob/main/Untitled1.ipynb\" target=\"_parent\"><img src=\"https://colab.research.google.com/assets/colab-badge.svg\" alt=\"Open In Colab\"/></a>"
      ]
    },
    {
      "cell_type": "markdown",
      "source": [
        "\n",
        "Intalando o SDK do Google\n"
      ],
      "metadata": {
        "id": "tWUEI66Ui8CB"
      }
    },
    {
      "cell_type": "code",
      "source": [
        "!pip install -q -U google-generativeai"
      ],
      "metadata": {
        "id": "Zqu0sZKpi-S1"
      },
      "execution_count": null,
      "outputs": []
    },
    {
      "cell_type": "code",
      "source": [
        "# Import the Python SDK\n",
        "import google.generativeai as genai\n",
        "from google.colab import userdata\n",
        "api_key = userdata.get ('SECRET_KEY')\n",
        "genai.configure(api_key=GOOGLE_API_KEY)"
      ],
      "metadata": {
        "id": "u9PjBC4IjAoF"
      },
      "execution_count": null,
      "outputs": []
    },
    {
      "cell_type": "code",
      "source": [
        "#Listando os modelos disponíveis\n",
        "for m in genai.list_models():\n",
        "  if 'generateContent' in m.supported_generation_methods:\n",
        "    print(m.name)"
      ],
      "metadata": {
        "colab": {
          "base_uri": "https://localhost:8080/",
          "height": 138
        },
        "id": "TbQFJ4FIjCF_",
        "outputId": "1337ae49-9989-474a-f690-b244e018c003"
      },
      "execution_count": null,
      "outputs": [
        {
          "output_type": "stream",
          "name": "stdout",
          "text": [
            "models/gemini-1.0-pro\n",
            "models/gemini-1.0-pro-001\n",
            "models/gemini-1.0-pro-latest\n",
            "models/gemini-1.0-pro-vision-latest\n",
            "models/gemini-1.5-pro-latest\n",
            "models/gemini-pro\n",
            "models/gemini-pro-vision\n"
          ]
        }
      ]
    },
    {
      "cell_type": "code",
      "source": [
        "generation_config = {\n",
        "  \"candidate_count\": 1,\n",
        "  \"temperature\": 1,\n",
        "}"
      ],
      "metadata": {
        "id": "uA994X9SjU7D"
      },
      "execution_count": null,
      "outputs": []
    },
    {
      "cell_type": "code",
      "source": [
        "safety_settings={\n",
        "    'HATE': 'BLOCK_NONE',\n",
        "    'HARASSMENT': 'BLOCK_NONE',\n",
        "    'SEXUAL' : 'BLOCK_NONE',\n",
        "    'DANGEROUS' : 'BLOCK_NONE'\n",
        "    }"
      ],
      "metadata": {
        "id": "WBU7OzdfjaXV"
      },
      "execution_count": null,
      "outputs": []
    },
    {
      "cell_type": "code",
      "source": [
        "model = genai.GenerativeModel(model_name=\"gemini-1.0-pro\",\n",
        "                              generation_config=generation_config,\n",
        "                              safety_settings=safety_settings)"
      ],
      "metadata": {
        "id": "Pc4AYgGkjdFq"
      },
      "execution_count": null,
      "outputs": []
    },
    {
      "cell_type": "code",
      "source": [
        "\n",
        "response = model.generate_content(\"Mostre linhas aéreas que fazem transporte de animais no Brasil\")\n",
        "print(response.text)\n"
      ],
      "metadata": {
        "colab": {
          "base_uri": "https://localhost:8080/",
          "height": 245
        },
        "id": "4JYOk4objfkc",
        "outputId": "6408b100-1376-4787-883a-bfab8ce7d851"
      },
      "execution_count": null,
      "outputs": [
        {
          "output_type": "stream",
          "name": "stdout",
          "text": [
            "**Linhas Aéreas que Transportam Animais no Brasil**\n",
            "\n",
            "* **Azul Linhas Aéreas:** http://www.voeazul.com.br/transporte-de-animais\n",
            "* **Gol Linhas Aéreas:** https://www.voegol.com.br/pt/servicos/transporte-de-animais\n",
            "* **LATAM Airlines Brasil:** https://www.latam.com/pt_br/informacoes-de-servico/transporte-de-animais\n",
            "* **Passaredo Linhas Aéreas:** https://www.voepassaredo.com.br/transporte-de-animais\n",
            "* **Qantas:** https://www.qantas.com/br/en/travel-info/baggage/pets.html\n",
            "* **United Airlines:** https://www.united.com/ual/en/us/fly/travel/animals.html\n",
            "* **British Airways:** https://www.britishairways.com/en-br/information/baggage/pets\n",
            "* **KLM Royal Dutch Airlines:** https://www.klm.com/travel/br_pt/prepare_for_travel/travel_planning/pets/pet_travel.htm\n",
            "* **Swiss Airlines:** https://www.swiss.com/pt/br/plan/baggage/special-baggage/pets\n",
            "* **TAP Air Portugal:** https://www.flytap.com/pt-br/ajuda/bagagem-e-servicos/transportar-animais\n"
          ]
        }
      ]
    },
    {
      "cell_type": "markdown",
      "source": [
        "Código para Iniciar um Chat com o Modelo de Linguagem Gemini"
      ],
      "metadata": {
        "id": "ZXpK9PzlkOQe"
      }
    },
    {
      "cell_type": "code",
      "source": [
        "chat = model.start_chat (history=[])"
      ],
      "metadata": {
        "id": "aQpnTsCgkO2f"
      },
      "execution_count": null,
      "outputs": []
    },
    {
      "cell_type": "code",
      "source": [
        "def main():\n",
        "    while True:\n",
        "        print(\"\\nMenu de Opções:\")\n",
        "        print(\"1. Iniciar chatbot do adestrador\")\n",
        "        print(\"2. Selecionar categoria de perguntas\")\n",
        "        print(\"0. Sair\")\n",
        "\n",
        "        choice = input(\"Digite sua opção: \")\n",
        "\n",
        "        if choice == \"1\":\n",
        "            start_adestrador_chat()\n",
        "        elif choice == \"2\":\n",
        "            select_category_chat()\n",
        "        elif choice == \"0\":\n",
        "            print(\"Saindo do chatbot...\")\n",
        "            break\n",
        "        else:\n",
        "            print(\"Opção inválida. Tente novamente.\")"
      ],
      "metadata": {
        "id": "iOadikYglfOC"
      },
      "execution_count": null,
      "outputs": []
    },
    {
      "cell_type": "code",
      "source": [
        "def select_category_chat ():\n",
        "    while True:\n",
        "        print(\"\\nSelecione a categoria de perguntas:\")\n",
        "        print(\"1. Documentos necessários\")\n",
        "        print(\"2. Caixas de transporte adequadas\")\n",
        "        print(\"3. Regras específicas para cada companhia aérea\")\n",
        "        print(\"4. Procedimentos de check-in e embarque\")\n",
        "        print(\"5. Cuidados com o animal durante a viagem\")\n",
        "        print(\"0. Voltar ao menu principal\")\n",
        "\n",
        "        category_choice = input(\"Digite sua opção: \")\n",
        "\n",
        "        if category_choice == \"1\":\n",
        "            user_question = \"Documentos necessários\"\n",
        "            break\n",
        "        elif category_choice == \"2\":\n",
        "            user_question = \"Caixas de transporte adequadas\"\n",
        "            break\n",
        "        elif category_choice == \"3\":\n",
        "            user_question = \"Regras específicas para cada companhia aérea\"\n",
        "            break\n",
        "        elif category_choice == \"4\":\n",
        "            user_question = \"Procedimentos de check-in e embarque\"\n",
        "            break\n",
        "        elif category_choice == \"5\":\n",
        "            user_question = \"Cuidados com o animal durante a viagem\"\n",
        "            break\n",
        "        elif category_choice == \"0\":\n",
        "            break\n",
        "        else:\n",
        "            print(\"Opção inválida. Tente novamente.\")\n",
        "\n",
        "\n",
        "def select_category_chat ():\n",
        "    while True:\n",
        "        print(\"\\nSelecione a categoria de perguntas:\")\n",
        "        print(\"1. Limites de peso e tamanho para animais de estimação\")\n",
        "        print(\"2. Taxas de transporte de animais\")\n",
        "        print(\"3. Proibições e restrições de raças\")\n",
        "        print(\"4. Serviços adicionais para animais de estimação\")\n",
        "        print(\"5. Contatos para dúvidas ou suporte\")\n",
        "        print(\"6. Taxas e preços\")\n",
        "        print(\"0. Voltar ao menu principal\")\n",
        "\n",
        "        category_choice = input(\"Digite sua opção: \")\n",
        "\n",
        "        if category_choice == \"1\":\n",
        "            user_question = \"Limites de peso e tamanho para animais de estimação\"\n",
        "            break\n",
        "        elif category_choice == \"2\":\n",
        "            user_question = \"Taxas de transporte de animais\"\n",
        "            break\n",
        "        elif category_choice == \"3\":\n",
        "            user_question = \"Proibições e restrições de raças\"\n",
        "            break\n",
        "        elif category_choice == \"4\":\n",
        "            user_question = \"Serviços adicionais para animais de estimação\"\n",
        "            break\n",
        "        elif category_choice == \"5\":\n",
        "            user_question = \"Cuidados com o animal durante a viagem\"\n",
        "            break\n",
        "        elif category_choice == \"6\":\n",
        "            user_question = \"Taxas e preços\"\n",
        "            break\n",
        "        elif category_choice == \"0\":\n",
        "            break\n",
        "        else:\n",
        "            print(\"Opção inválida. Tente novamente.\")"
      ],
      "metadata": {
        "id": "HETj9FPenleU"
      },
      "execution_count": null,
      "outputs": []
    },
    {
      "cell_type": "code",
      "source": [
        "\n",
        "\n",
        "# Funções para buscar respostas\n",
        "def get_adestrador_answer (question):\n",
        "    # Simulação de busca em base de dados (substitua por sua lógica)\n",
        "    # ... (implementação similar ao código anterior)\n",
        "\n",
        " def get_airline_answer( question):\n",
        "    # Simulação de busca em base de dados (substitua por sua lógica)\n",
        "    # ... (implementação similar ao código anterior)\n",
        "\n",
        "# Função para iniciar o chatbot do adestrador\n",
        "  def start_adestrador_chat():\n",
        "     chat = model.start_chat(history=[])\n",
        "     while True:\n",
        "         user_message = input(\"Usuário: \")\n",
        "         if user_message.lower() == \"sair\":\n",
        "             break\n",
        "         response = model.continue_chat(chat, user_message)\n",
        "         print(f\"Adestrador: {response}\")\n",
        "\n",
        "# Função para selecionar categoria de perguntas\n",
        "def select_category_chat():\n",
        "    # ... (implementação similar ao código anterior)\n",
        "\n",
        "# Função principal\n",
        " def main():\n",
        "    # ... (implementação similar ao código anterior)\n",
        "\n",
        "  if __name__ == \"__main__\":\n",
        "     main()"
      ],
      "metadata": {
        "id": "f163thIKp0a-"
      },
      "execution_count": null,
      "outputs": []
    },
    {
      "cell_type": "code",
      "source": [],
      "metadata": {
        "id": "dj9cD6DimHQ_"
      },
      "execution_count": null,
      "outputs": []
    }
  ]
}